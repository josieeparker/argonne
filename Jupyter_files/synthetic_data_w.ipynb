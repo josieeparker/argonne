# -*- coding: utf-8 -*-
"""
Created on Thu Mar  7 08:31:22 2024

@author: User
"""
import numpy as np
import matplotlib.pyplot as plt

def solve_system(u, w, dx, dy, max_iter=10000, tol=1e-5):
    for iteration in range(max_iter):
        # Update u using the given solution form
        u_new = np.exp(-4 * (X - 0.5)**2 - 4 * (Y - 0.5)**2)

        # Update w using a function of u
        w_new = some_function_of_u(u_new)

        # Check for convergence and print intermediate results
        u_diff_norm = np.linalg.norm(u_new - u)
        w_diff_norm = np.linalg.norm(w_new - w)
        print(f'Iteration {iteration}, u norm: {u_diff_norm}, w norm: {w_diff_norm}')

        # Check for convergence
        if u_diff_norm < tol and w_diff_norm < tol:
            break

        # Update for the next iteration
        u = u_new
        w = w_new

    return u_new, w_new

def some_function_of_u(u):
    # Define a function to compute w based on u (customize this based on your needs)
    w = u**2  # Example: w is the square of u
    return w

if __name__ == '__main__':
    # Define parameters and grid
    nx, ny = 50, 50
    Lx, Ly = 1.0, 1.0
    dx, dy = Lx / (nx - 1), Ly / (ny - 1)

    # Initialize u and w
    x = np.linspace(0, Lx, nx)
    y = np.linspace(0, Ly, ny)
    X, Y = np.meshgrid(x, y)

    u = np.exp(-4 * (X - 0.5)**2 - 4 * (Y - 0.5)**2)  # Initial guess for u
    w = some_function_of_u(u)  # Initial guess for w based on u

    # Set other parameters
    max_iterations = 1000
    tolerance = 1e-5

    # Solve the system
    u_sol, w_sol = solve_system(u, w, dx, dy, max_iter=max_iterations, tol=tolerance)

    # Plot the results
    plt.figure(figsize=(10, 5))

    plt.subplot(1, 2, 1)
    plt.contourf(X, Y, u_sol.T, cmap='viridis', levels=20)
    plt.title('Solution for u')
    plt.xlabel('x')
    plt.ylabel('y')
    plt.colorbar()

    plt.subplot(1, 2, 2)
    plt.contourf(X, Y, w_sol.T, cmap='viridis', levels=20)
    plt.title('Solution for w')
    plt.xlabel('x')
    plt.ylabel('y')
    plt.colorbar()

    plt.tight_layout()
    plt.show()
